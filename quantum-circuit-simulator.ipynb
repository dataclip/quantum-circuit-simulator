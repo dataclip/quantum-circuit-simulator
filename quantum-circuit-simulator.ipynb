{
 "cells": [
  {
   "cell_type": "markdown",
   "metadata": {},
   "source": [
    "## Quantum Circuit Simulator\n",
    "\n",
    "<p>This is a solution for task 3 of the qosf mentorship program."
   ]
  },
  {
   "cell_type": "code",
   "execution_count": 1,
   "metadata": {},
   "outputs": [],
   "source": [
    "from quantum_circuit import QuantumCircuit\n",
    "from utils import *\n",
    "import numpy as np\n",
    "from scipy.optimize import minimize"
   ]
  },
  {
   "cell_type": "markdown",
   "metadata": {},
   "source": [
    "For a 2 qubit system initialize the circuit:"
   ]
  },
  {
   "cell_type": "code",
   "execution_count": 2,
   "metadata": {},
   "outputs": [],
   "source": [
    "qc = QuantumCircuit(2)"
   ]
  },
  {
   "cell_type": "markdown",
   "metadata": {},
   "source": [
    "Calculate initial state where all qubits are in state <0|:"
   ]
  },
  {
   "cell_type": "code",
   "execution_count": 3,
   "metadata": {},
   "outputs": [
    {
     "data": {
      "text/plain": [
       "array([1., 0., 0., 0.])"
      ]
     },
     "execution_count": 3,
     "metadata": {},
     "output_type": "execute_result"
    }
   ],
   "source": [
    "initial_state = qc.get_ground_state()\n",
    "initial_state"
   ]
  },
  {
   "cell_type": "markdown",
   "metadata": {},
   "source": [
    "Calculate operators for Hadamard gate applied to qubit 0 and a CNOT gate applied to 1 where controlled qubit is at 0:"
   ]
  },
  {
   "cell_type": "code",
   "execution_count": 4,
   "metadata": {},
   "outputs": [
    {
     "name": "stderr",
     "output_type": "stream",
     "text": [
      "/home/bis/PycharmProjects/qc-sim/quantum_circuit.py:74: FutureWarning: elementwise comparison failed; returning scalar instead, but in the future will perform elementwise comparison\n",
      "  if gate_unitary == 'U3':\n"
     ]
    }
   ],
   "source": [
    "H = 1./np.sqrt(2) * np.array([[1, 1],[1, -1]])\n",
    "op1 = qc.op_single_q_gates(H, [0])\n",
    "op2 = qc.op_cnot([0, 1])"
   ]
  },
  {
   "cell_type": "markdown",
   "metadata": {},
   "source": [
    "Calculate final state vector using the measure method of QuantumCricuit class:"
   ]
  },
  {
   "cell_type": "code",
   "execution_count": 5,
   "metadata": {},
   "outputs": [
    {
     "data": {
      "text/plain": [
       "array([0.70710678, 0.        , 0.        , 0.70710678])"
      ]
     },
     "execution_count": 5,
     "metadata": {},
     "output_type": "execute_result"
    }
   ],
   "source": [
    "final_state = qc.measure(initial_state, [op2, op1])\n",
    "final_state"
   ]
  },
  {
   "cell_type": "markdown",
   "metadata": {},
   "source": [
    "Finally, for a 1000 shots calculate probability of occurences of each state:"
   ]
  },
  {
   "cell_type": "code",
   "execution_count": 6,
   "metadata": {},
   "outputs": [
    {
     "data": {
      "text/plain": [
       "{'00': 490, '11': 510}"
      ]
     },
     "execution_count": 6,
     "metadata": {},
     "output_type": "execute_result"
    }
   ],
   "source": [
    "qc.get_counts(final_state)[0]"
   ]
  },
  {
   "cell_type": "markdown",
   "metadata": {},
   "source": [
    "Another example: use H gate on qubit 0. This operation should produce equal probability of finding + and - states."
   ]
  },
  {
   "cell_type": "code",
   "execution_count": 7,
   "metadata": {},
   "outputs": [
    {
     "name": "stdout",
     "output_type": "stream",
     "text": [
      "Final State: [0.70710678 0.70710678]\n",
      "counts {'0': 490, '1': 510}\n"
     ]
    }
   ],
   "source": [
    "qc = QuantumCircuit(1)\n",
    "initial_state = qc.get_ground_state()\n",
    "op1 = qc.op_single_q_gates(H, [0])\n",
    "final_state = qc.measure(initial_state, [op1])\n",
    "print('Final State:', final_state)\n",
    "print('counts', qc.get_counts(final_state)[0])"
   ]
  },
  {
   "cell_type": "markdown",
   "metadata": {},
   "source": [
    "What if we use H gate on qubit 0 followed by another H gate on the same qubit for a 1 qubit system: "
   ]
  },
  {
   "cell_type": "code",
   "execution_count": 8,
   "metadata": {},
   "outputs": [
    {
     "name": "stdout",
     "output_type": "stream",
     "text": [
      "Final State: [1. 0.]\n",
      "counts {'0': 1000}\n"
     ]
    }
   ],
   "source": [
    "qc = QuantumCircuit(1)\n",
    "initial_state = qc.get_ground_state()\n",
    "op1 = qc.op_single_q_gates(H, [0])\n",
    "op2 = qc.op_single_q_gates(H, [0])\n",
    "final_state = qc.measure(initial_state, [op2, op1])\n",
    "print('Final State:', final_state)\n",
    "print('counts', qc.get_counts(final_state)[0])"
   ]
  },
  {
   "cell_type": "markdown",
   "metadata": {},
   "source": [
    "Use X gate:"
   ]
  },
  {
   "cell_type": "code",
   "execution_count": 9,
   "metadata": {},
   "outputs": [],
   "source": [
    "X = np.array([[0,1],\n",
    "            [1,0]])"
   ]
  },
  {
   "cell_type": "code",
   "execution_count": 10,
   "metadata": {},
   "outputs": [
    {
     "data": {
      "text/plain": [
       "array([0., 1.])"
      ]
     },
     "execution_count": 10,
     "metadata": {},
     "output_type": "execute_result"
    }
   ],
   "source": [
    "qc = QuantumCircuit(1)\n",
    "initial_state = qc.get_ground_state()\n",
    "op1 = qc.op_single_q_gates(X, [0])\n",
    "final_state = qc.measure(initial_state, [op1])\n",
    "final_state"
   ]
  },
  {
   "cell_type": "markdown",
   "metadata": {},
   "source": [
    "U3 gate:"
   ]
  },
  {
   "cell_type": "code",
   "execution_count": 11,
   "metadata": {},
   "outputs": [
    {
     "data": {
      "text/plain": [
       "array([-1.36278287e-01+0.j       , -3.63893629e-06+0.9906706j,\n",
       "        0.00000000e+00+0.j       ,  0.00000000e+00+0.j       ])"
      ]
     },
     "execution_count": 11,
     "metadata": {},
     "output_type": "execute_result"
    }
   ],
   "source": [
    "qc = QuantumCircuit(2)\n",
    "initial_state = qc.get_ground_state()\n",
    "op1 = qc.op_single_q_gates('U3', [1], theta = 3.415, phi=1.5708, lambda1=-3.415)\n",
    "final_state = qc.measure(initial_state, [op1])\n",
    "final_state"
   ]
  },
  {
   "cell_type": "markdown",
   "metadata": {},
   "source": [
    "Optimize a quantum circuit:"
   ]
  },
  {
   "cell_type": "code",
   "execution_count": 12,
   "metadata": {},
   "outputs": [],
   "source": [
    "num_shots = 1000\n",
    "\n",
    "def objective_function(params):\n",
    "    '''Return cost to optimize a quantum circuit\n",
    "        Args: \n",
    "            params: a list of theta, phi and lambda values\n",
    "        Returns:\n",
    "            Mean squared error of counts for each state from total number of shots/2. This is the cost function.\n",
    "            For a two qubit system this is to be minimized in order to get maximum probabilities at states \n",
    "            '00' and '11'.\n",
    "    '''\n",
    "    \n",
    "    theta = params[0]\n",
    "    phi = params[1]\n",
    "    lambda1 = params [2]\n",
    "    qc = QuantumCircuit(2)\n",
    "    initial_state = qc.get_ground_state()\n",
    "    op1 = qc.op_single_q_gates('U3', [0], theta=theta, phi = phi, lambda1 = lambda1)\n",
    "    op2 = qc.op_cnot([0, 1])\n",
    "    final_state = qc.measure(initial_state, [op2, op1])\n",
    "\n",
    "    counts, state_count = qc.get_counts(final_state, num_shots=num_shots)\n",
    "    y_true = [num_shots/2, num_shots/2]  \n",
    "    mean_squared_error = np.square(np.subtract(y_true, state_count)).mean() \n",
    "\n",
    "    return mean_squared_error"
   ]
  },
  {
   "cell_type": "code",
   "execution_count": 13,
   "metadata": {},
   "outputs": [
    {
     "data": {
      "text/plain": [
       "250000.0"
      ]
     },
     "execution_count": 13,
     "metadata": {},
     "output_type": "execute_result"
    }
   ],
   "source": [
    "params = [3.1415, 1.15708, -3.1415]\n",
    "objective_function(params)"
   ]
  },
  {
   "cell_type": "code",
   "execution_count": 14,
   "metadata": {},
   "outputs": [
    {
     "data": {
      "text/plain": [
       "   direc: array([[1., 0., 0.],\n",
       "       [0., 1., 0.],\n",
       "       [0., 0., 1.]])\n",
       "     fun: 25.0\n",
       " message: 'Optimization terminated successfully.'\n",
       "    nfev: 120\n",
       "     nit: 2\n",
       "  status: 0\n",
       " success: True\n",
       "       x: array([ 4.71859429, -0.1669482 , -0.52346602])"
      ]
     },
     "execution_count": 14,
     "metadata": {},
     "output_type": "execute_result"
    }
   ],
   "source": [
    "minimum = minimize(objective_function, params, method=\"Powell\", tol=1e-6)\n",
    "minimum"
   ]
  },
  {
   "cell_type": "code",
   "execution_count": 16,
   "metadata": {},
   "outputs": [
    {
     "data": {
      "text/plain": [
       "{'00': 490, '11': 510}"
      ]
     },
     "execution_count": 16,
     "metadata": {},
     "output_type": "execute_result"
    }
   ],
   "source": [
    "qc = QuantumCircuit(2)\n",
    "initial_state = qc.get_ground_state()\n",
    "op1 = qc.op_single_q_gates('U3', [0], theta=4.71859429, phi = -0.1669482, lambda1 = -0.52346602)\n",
    "op2 = qc.op_cnot([0, 1])\n",
    "final_state = qc.measure(initial_state, [op2, op1])\n",
    "qc.get_counts(final_state)[0]"
   ]
  },
  {
   "cell_type": "code",
   "execution_count": null,
   "metadata": {},
   "outputs": [],
   "source": []
  }
 ],
 "metadata": {
  "kernelspec": {
   "display_name": "Python 3",
   "language": "python",
   "name": "python3"
  },
  "language_info": {
   "codemirror_mode": {
    "name": "ipython",
    "version": 3
   },
   "file_extension": ".py",
   "mimetype": "text/x-python",
   "name": "python",
   "nbconvert_exporter": "python",
   "pygments_lexer": "ipython3",
   "version": "3.8.5"
  }
 },
 "nbformat": 4,
 "nbformat_minor": 4
}
